{
 "cells": [
  {
   "cell_type": "markdown",
   "metadata": {},
   "source": [
    "Parte 1: Web Scraping con BeautifulSoup\n",
    "- El nombre de las rutas que aparecen en la página web.\n",
    "- Donde esta ubicada la ruta.\n",
    "- El tipo de ruta. Si esta información añadir \"Desconocido\".\n",
    "- Duración de la ruta.\n",
    "- Los kilometros de la ruta.\n",
    "- La dificultad de la ruta.\n",
    "- El esfuerzo de la ruta.\n",
    "- La descripción de la ruta."
   ]
  },
  {
   "cell_type": "code",
   "execution_count": 4,
   "metadata": {},
   "outputs": [
    {
     "name": "stdout",
     "output_type": "stream",
     "text": [
      "200\n"
     ]
    }
   ],
   "source": [
    "# importamos librerías:\n",
    "import pandas as pd\n",
    "from bs4 import BeautifulSoup\n",
    "import requests\n",
    "import re\n",
    "\n",
    "\n",
    "url_SierraGredos =  \"https://turismoactiva.com/rutas-de-montana-sierra-de-gredos/\"\n",
    "res_SierraGredos = requests.get(url_SierraGredos)\n",
    "res_SierraGredos.status_code\n",
    "print(res_SierraGredos.status_code) # es ok "
   ]
  },
  {
   "cell_type": "code",
   "execution_count": null,
   "metadata": {},
   "outputs": [],
   "source": [
    "#convertimos en objeto para ver lo que hay:\n",
    "sopa_SierraGredos = BeautifulSoup(res_SierraGredos.content,\"html.parser\")\n",
    "sopa_SierraGredos"
   ]
  },
  {
   "cell_type": "code",
   "execution_count": null,
   "metadata": {},
   "outputs": [],
   "source": [
    "rutas_SierraGredos = sopa_SierraGredos.find_all(\"h4\",{\"class\":\"elementor-heading-title elementor-size-default\"})\n",
    "rutas_SierraGredos[:13] \n",
    "\n",
    "#Mostramos 13 primeros porque lo demás no son rutas"
   ]
  },
  {
   "cell_type": "code",
   "execution_count": 7,
   "metadata": {},
   "outputs": [
    {
     "data": {
      "text/plain": [
       "['Pico Morenzon',\n",
       " 'Pico de la Mira',\n",
       " 'Pico Almanzor',\n",
       " 'Laguna Grande',\n",
       " 'Cinco Lagunas',\n",
       " 'Circo de  Hoya Moros',\n",
       " 'Canchal Negro',\n",
       " 'El Calvitero',\n",
       " 'Canchal de la Ceja, Torreon, Calvitero',\n",
       " 'Laguna de Barco',\n",
       " 'Tres Lagunas, La Nava, Barco y Caballeros',\n",
       " 'Laguna de los Caballeros',\n",
       " 'Laguna de la Nava']"
      ]
     },
     "execution_count": 7,
     "metadata": {},
     "output_type": "execute_result"
    }
   ],
   "source": [
    "rutas_nombres = []\n",
    "for nombre in rutas_SierraGredos:\n",
    "    rutas_nombres.append(nombre.text)\n",
    "rutas_nombres[:13]  #solo los nombres de las rutas"
   ]
  },
  {
   "cell_type": "code",
   "execution_count": 23,
   "metadata": {},
   "outputs": [
    {
     "data": {
      "text/plain": [
       "[<li style=\"font-size: 16.875px;\">Botas de montaña de caña alta con  membrana Gore-Tex o similar (dependiendo la actividad o fecha del año se exigirá bota semirrígida)</li>]"
      ]
     },
     "execution_count": 23,
     "metadata": {},
     "output_type": "execute_result"
    }
   ],
   "source": [
    "donde = sopa_SierraGredos.find_all(\"li\",{\"&nbsp\":\"\"})\n",
    "donde[:1]\n",
    "\n",
    "\n",
    "\n",
    "\n",
    "#donde = [donde.text for lugar in sopa_SierraGredos]\n",
    "#donde[:13]\n",
    "\n",
    "\n",
    "#Sierra de Gredos, salida desde la carretera de Nava de Barco. Sector Central"
   ]
  }
 ],
 "metadata": {
  "kernelspec": {
   "display_name": "Python 3",
   "language": "python",
   "name": "python3"
  },
  "language_info": {
   "codemirror_mode": {
    "name": "ipython",
    "version": 3
   },
   "file_extension": ".py",
   "mimetype": "text/x-python",
   "name": "python",
   "nbconvert_exporter": "python",
   "pygments_lexer": "ipython3",
   "version": "3.9.7"
  }
 },
 "nbformat": 4,
 "nbformat_minor": 2
}
